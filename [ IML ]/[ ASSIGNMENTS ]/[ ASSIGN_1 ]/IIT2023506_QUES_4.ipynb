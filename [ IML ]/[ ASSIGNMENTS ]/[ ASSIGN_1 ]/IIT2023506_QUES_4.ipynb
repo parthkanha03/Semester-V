{
  "nbformat": 4,
  "nbformat_minor": 0,
  "metadata": {
    "colab": {
      "provenance": []
    },
    "kernelspec": {
      "name": "python3",
      "display_name": "Python 3"
    },
    "language_info": {
      "name": "python"
    }
  },
  "cells": [
    {
      "cell_type": "code",
      "execution_count": null,
      "metadata": {
        "id": "OOlhBSR_JFUR"
      },
      "outputs": [],
      "source": []
    },
    {
      "cell_type": "markdown",
      "metadata": {
        "id": "f8505b62"
      },
      "source": [
        "# Task\n",
        "Deduce the Normal Equation for a linear regression model with two predictor variables and find the least square parabola which fits the data: X = [0, 1, 2, 3, 4, 5, 6] and Y = [3.4, 3.9, 4.2, 6.6, 10.3, 14.6, 21.9]."
      ]
    },
    {
      "cell_type": "code",
      "metadata": {
        "id": "77254418",
        "colab": {
          "base_uri": "https://localhost:8080/"
        },
        "outputId": "4bf2c2ee-86c5-4b0e-fd04-e91849be99ea"
      },
      "source": [
        "import numpy as np\n",
        "\n",
        "X_data = np.array([0, 1, 2, 3, 4, 5, 6])\n",
        "Y_data = np.array([3.4, 3.9, 4.2, 6.6, 10.3, 14.6, 21.9])\n",
        "\n",
        "print(\"X_data:\", X_data)\n",
        "print(\"Y_data:\", Y_data)"
      ],
      "execution_count": 1,
      "outputs": [
        {
          "output_type": "stream",
          "name": "stdout",
          "text": [
            "X_data: [0 1 2 3 4 5 6]\n",
            "Y_data: [ 3.4  3.9  4.2  6.6 10.3 14.6 21.9]\n"
          ]
        }
      ]
    },
    {
      "cell_type": "code",
      "metadata": {
        "id": "250af647",
        "colab": {
          "base_uri": "https://localhost:8080/"
        },
        "outputId": "5739e2bd-3fd6-4275-8a0e-f1f8a80170dc"
      },
      "source": [
        "ones_column = np.ones_like(X_data)\n",
        "X_column = X_data\n",
        "X_squared_column = X_data**2\n",
        "A = np.column_stack((ones_column, X_column, X_squared_column))\n",
        "print(\"Design Matrix A:\")\n",
        "print(A)"
      ],
      "execution_count": 9,
      "outputs": [
        {
          "output_type": "stream",
          "name": "stdout",
          "text": [
            "Design Matrix A:\n",
            "[[ 1  0  0]\n",
            " [ 1  1  1]\n",
            " [ 1  2  4]\n",
            " [ 1  3  9]\n",
            " [ 1  4 16]\n",
            " [ 1  5 25]\n",
            " [ 1  6 36]]\n"
          ]
        }
      ]
    },
    {
      "cell_type": "code",
      "metadata": {
        "id": "6ea21edf",
        "colab": {
          "base_uri": "https://localhost:8080/"
        },
        "outputId": "059396ba-8a80-487d-b2f7-6f61e4bbb665"
      },
      "source": [
        "A_transpose = A.T\n",
        "A_transpose_A = A_transpose @ A\n",
        "A_transpose_A_inv = np.linalg.inv(A_transpose_A)\n",
        "A_transpose_Y = A_transpose @ Y_data\n",
        "W = A_transpose_A_inv @ A_transpose_Y\n",
        "\n",
        "print(\"Parameters W:\", W)\n"
      ],
      "execution_count": 10,
      "outputs": [
        {
          "output_type": "stream",
          "name": "stdout",
          "text": [
            "Parameters W: [ 3.74761905 -1.07857143  0.67380952]\n"
          ]
        }
      ]
    },
    {
      "cell_type": "code",
      "metadata": {
        "id": "0c108b3f",
        "colab": {
          "base_uri": "https://localhost:8080/"
        },
        "outputId": "19000432-f99b-42f0-de81-49517aa23353"
      },
      "source": [
        "print(f\"The calculated parameters (W) for the least square parabola are: {W}\")\n",
        "print(f\"The equation of the least square parabola is: Y = {W[0]:.4f} + {W[1]:.4f}*X + {W[2]:.4f}*X^2\")"
      ],
      "execution_count": 11,
      "outputs": [
        {
          "output_type": "stream",
          "name": "stdout",
          "text": [
            "The calculated parameters (W) for the least square parabola are: [ 3.74761905 -1.07857143  0.67380952]\n",
            "The equation of the least square parabola is: Y = 3.7476 + -1.0786*X + 0.6738*X^2\n"
          ]
        }
      ]
    },
    {
      "cell_type": "code",
      "metadata": {
        "colab": {
          "base_uri": "https://localhost:8080/"
        },
        "id": "cc74b258",
        "outputId": "5347eda1-de9a-4b93-ed86-b1b1e4ae4305"
      },
      "source": [
        "import numpy as np\n",
        "\n",
        "X_data = np.array([0, 1, 2, 3, 4, 5, 6])\n",
        "Y_data = np.array([3.4, 3.9, 4.2, 6.6, 10.3, 14.6, 21.9])\n",
        "\n",
        "print(\"X_data:\", X_data)\n",
        "print(\"Y_data:\", Y_data)"
      ],
      "execution_count": 12,
      "outputs": [
        {
          "output_type": "stream",
          "name": "stdout",
          "text": [
            "X_data: [0 1 2 3 4 5 6]\n",
            "Y_data: [ 3.4  3.9  4.2  6.6 10.3 14.6 21.9]\n"
          ]
        }
      ]
    },
    {
      "cell_type": "code",
      "metadata": {
        "colab": {
          "base_uri": "https://localhost:8080/"
        },
        "id": "e139e1d6",
        "outputId": "68f361f9-b462-4271-ee14-e2a9a3dcbca5"
      },
      "source": [
        "ones_column = np.ones_like(X_data)\n",
        "X_column = X_data\n",
        "X_squared_column = X_data**2\n",
        "A = np.column_stack((ones_column, X_column, X_squared_column))\n",
        "print(\"Design Matrix A:\")\n",
        "print(A)"
      ],
      "execution_count": 13,
      "outputs": [
        {
          "output_type": "stream",
          "name": "stdout",
          "text": [
            "Design Matrix A:\n",
            "[[ 1  0  0]\n",
            " [ 1  1  1]\n",
            " [ 1  2  4]\n",
            " [ 1  3  9]\n",
            " [ 1  4 16]\n",
            " [ 1  5 25]\n",
            " [ 1  6 36]]\n"
          ]
        }
      ]
    },
    {
      "cell_type": "code",
      "metadata": {
        "colab": {
          "base_uri": "https://localhost:8080/"
        },
        "id": "642e21f1",
        "outputId": "c720b12b-1728-47e6-e818-7eb7b097b15d"
      },
      "source": [
        "A_transpose = A.T\n",
        "A_transpose_A = A_transpose @ A\n",
        "A_transpose_A_inv = np.linalg.inv(A_transpose_A)\n",
        "A_transpose_Y = A_transpose @ Y_data\n",
        "W = A_transpose_A_inv @ A_transpose_Y\n",
        "\n",
        "print(\"Parameters W:\", W)\n"
      ],
      "execution_count": 14,
      "outputs": [
        {
          "output_type": "stream",
          "name": "stdout",
          "text": [
            "Parameters W: [ 3.74761905 -1.07857143  0.67380952]\n"
          ]
        }
      ]
    },
    {
      "cell_type": "code",
      "metadata": {
        "colab": {
          "base_uri": "https://localhost:8080/"
        },
        "id": "aa2823b1",
        "outputId": "037ffa63-7257-4fd1-dcb7-1aa4a69eb7b4"
      },
      "source": [
        "print(f\"The calculated parameters (W) for the least square parabola are: {W}\")\n",
        "print(f\"The equation of the least square parabola is: Y = {W[0]:.4f} + {W[1]:.4f}*X + {W[2]:.4f}*X^2\")"
      ],
      "execution_count": 15,
      "outputs": [
        {
          "output_type": "stream",
          "name": "stdout",
          "text": [
            "The calculated parameters (W) for the least square parabola are: [ 3.74761905 -1.07857143  0.67380952]\n",
            "The equation of the least square parabola is: Y = 3.7476 + -1.0786*X + 0.6738*X^2\n"
          ]
        }
      ]
    }
  ]
}