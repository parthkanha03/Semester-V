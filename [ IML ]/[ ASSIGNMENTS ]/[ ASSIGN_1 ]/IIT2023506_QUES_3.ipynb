{
  "nbformat": 4,
  "nbformat_minor": 0,
  "metadata": {
    "colab": {
      "provenance": []
    },
    "kernelspec": {
      "name": "python3",
      "display_name": "Python 3"
    },
    "language_info": {
      "name": "python"
    }
  },
  "cells": [
    {
      "cell_type": "code",
      "execution_count": null,
      "metadata": {
        "id": "oRpMYTiLJGhu"
      },
      "outputs": [],
      "source": []
    },
    {
      "cell_type": "markdown",
      "metadata": {
        "id": "c561974a"
      },
      "source": [
        "# Task\n",
        "Deduce the Normal Equation for a linear regression model with two predictor variables. Then, given the experimental data for pressure (P) and volume (V): V = [55.3, 62.5, 72.4, 89.7, 118.6, 194] and P = [63.2, 50.5, 37.5, 38.4, 19.2, 10.1], and assuming the relationship PV^n = c, find the parameters n and c, write the equation connecting P and V, and estimate the value of P when V=100."
      ]
    },
    {
      "cell_type": "code",
      "metadata": {
        "id": "371efa57",
        "colab": {
          "base_uri": "https://localhost:8080/"
        },
        "outputId": "34af842e-2956-4251-b005-f784e661ddc7"
      },
      "source": [
        "import numpy as np\n",
        "\n",
        "V = np.array([55.3, 62.5, 72.4, 89.7, 118.6, 194])\n",
        "P = np.array([63.2, 50.5, 37.5, 38.4, 19.2, 10.1])\n",
        "\n",
        "log_V = np.log(V)\n",
        "log_P = np.log(P)\n",
        "\n",
        "print(\"Transformed V (log_V):\", log_V)\n",
        "print(\"Transformed P (log_P):\", log_P)"
      ],
      "execution_count": 6,
      "outputs": [
        {
          "output_type": "stream",
          "name": "stdout",
          "text": [
            "Transformed V (log_V): [4.01277291 4.13516656 4.2822063  4.49647077 4.77575649 5.26785816]\n",
            "Transformed P (log_P): [4.1463043  3.92197334 3.62434093 3.64805746 2.95491028 2.31253542]\n"
          ]
        }
      ]
    },
    {
      "cell_type": "code",
      "metadata": {
        "id": "2877edfb",
        "colab": {
          "base_uri": "https://localhost:8080/"
        },
        "outputId": "67c10099-29b8-4d2c-bdeb-9b52f205e331"
      },
      "source": [
        "X = np.vstack([np.ones(len(log_V)), log_V]).T\n",
        "Y = log_P\n",
        "\n",
        "XTX = X.T @ X\n",
        "XTX_inv = np.linalg.inv(XTX)\n",
        "XTY = X.T @ Y\n",
        "beta = XTX_inv @ XTY\n",
        "\n",
        "print(\"Parameter vector β:\", beta)\n"
      ],
      "execution_count": 7,
      "outputs": [
        {
          "output_type": "stream",
          "name": "stdout",
          "text": [
            "Parameter vector β: [ 9.9090226  -1.44032929]\n"
          ]
        }
      ]
    },
    {
      "cell_type": "code",
      "metadata": {
        "id": "176fb7e5",
        "colab": {
          "base_uri": "https://localhost:8080/"
        },
        "outputId": "b44ce894-b063-4333-df9b-879d09bd6315"
      },
      "source": [
        "intercept = beta[0]\n",
        "slope = beta[1]\n",
        "\n",
        "n = -slope\n",
        "c = np.exp(intercept)\n",
        "\n",
        "print(\"Calculated value of n:\", n)\n",
        "print(\"Calculated value of c:\", c)\n"
      ],
      "execution_count": 8,
      "outputs": [
        {
          "output_type": "stream",
          "name": "stdout",
          "text": [
            "Calculated value of n: 1.4403292867862318\n",
            "Calculated value of c: 20111.00778864329\n"
          ]
        }
      ]
    },
    {
      "cell_type": "code",
      "metadata": {
        "id": "103637c1",
        "colab": {
          "base_uri": "https://localhost:8080/"
        },
        "outputId": "c862e6f1-7e09-47e5-dd72-dc5c11d69c42"
      },
      "source": [
        "equation_string = f\"P * V^{n:.4f} = {c:.4f}\"\n",
        "print(\"The equation connecting P and V is:\")\n",
        "print(equation_string)\n"
      ],
      "execution_count": 9,
      "outputs": [
        {
          "output_type": "stream",
          "name": "stdout",
          "text": [
            "The equation connecting P and V is:\n",
            "P * V^1.4403 = 20111.0078\n"
          ]
        }
      ]
    },
    {
      "cell_type": "code",
      "metadata": {
        "id": "571bf5ce",
        "colab": {
          "base_uri": "https://localhost:8080/"
        },
        "outputId": "bacc60a3-2382-4371-bcce-e0aa81f517ea"
      },
      "source": [
        "estimated_P = c / (100**n)\n",
        "print(f\"Estimated value of P when V=100: {estimated_P:.4f}\")\n"
      ],
      "execution_count": 10,
      "outputs": [
        {
          "output_type": "stream",
          "name": "stdout",
          "text": [
            "Estimated value of P when V=100: 26.4713\n"
          ]
        }
      ]
    }
  ]
}